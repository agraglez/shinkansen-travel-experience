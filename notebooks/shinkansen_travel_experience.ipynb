{
 "cells": [
  {
   "cell_type": "markdown",
   "id": "1da094ac",
   "metadata": {},
   "source": [
    "# Shinkansen Travel Experience"
   ]
  },
  {
   "cell_type": "markdown",
   "id": "f717de0d",
   "metadata": {},
   "source": [
    "## Introduction\n",
    "The purposde of this report is to:\n",
    "* Identify the different factors that drive passenger satisaction.\n",
    "* Make a model to predict whether a passenger was satisfied or not considering the overall experience of traveling on the Shinkansen Bullet Train.\n",
    "\n",
    "**Dataset**\n",
    "\n",
    "The problem consists of 2 separate datasets: Travel data & Survey data. Travel data has information related to passengers and attributes related to the Shinkansen train, in which they traveled. The survey data is aggregated data of surveys indicating the post-service experience. The data has been split into two groups:\n",
    "\n",
    "* Train_Data\n",
    "* Test_Data\n",
    "\n",
    "**Travel Data Dictionary:**\n",
    "\n",
    "* **ID** - The unique ID of the passenger.\n",
    "* **Gender** - The gender of the passenger.\n",
    "* **Customer_Type** - Loyalty type of the passenger.\n",
    "* **Age** - The age of the passenger.\n",
    "* **Type_Travel** - Purpose of travel for the passenger.\n",
    "* **Travel_Class** - The train class that the passenger traveled in.\n",
    "* **Travel_Distance** - The distance traveled by the passenger.\n",
    "* **Departure_Delay_in_Mins** - The delay (in minutes) in train departure.\n",
    "* **Arrival_Delay_in_Mins** - The delay (in minutes) in train arrival.\n",
    "\n",
    "**Survey Data Dictionay:**\n",
    "\n",
    "* **ID** - The unique ID of the passenger.\n",
    "* **Platform_Location** - How convenient the location of the platform is for the passenger.\n",
    "* **Seat_Class** - The type of the seat class in the train, Green Car seats are usually more spacious and comfortable than ordinary seats. On the Shinkansen train, there are only four seats per row in the Green Car, versus five in the ordinary car.\n",
    "* **Overall_Experience** - The overall experience of the passenger. Target variable.\n",
    "* **Seat_Comfort** - The comfort level of the seat for the passenger.\n",
    "* **Arrival_Time_Convenient** - How convenient the arrival time of the train is for the passenger.\n",
    "* **Catering** - How convenient the catering service is for the passenger.\n",
    "* **Onboard_Wifi_Service** - The quality of the onboard Wi-Fi service for the passenger.\n",
    "* **Onboard_Entertainment** - The quality of the onboard entertainment for the passenger.\n",
    "* **Online_Support** - The quality of the online support for the passenger.\n",
    "* **Ease_of_Online_Booking** - The ease of online booking for the passenger.\n",
    "* **Onboard_Service** - The quality of the onboard service for the passenger.\n",
    "* **Legroom** - Legroom is the general term used in place of the more accurate “seat pitch”, which is the distance between a point on one seat and the same point on the seat in front of it. This variable describes the convenience of the legroom provided for the passenger.\n",
    "* **Baggage_Handling** - The convenience of baggage handling for the passenger.\n",
    "* **CheckIn_Service** - The convenience of the check-in service for the passenger.\n",
    "* **Cleanliness** - The passenger's view of the cleanliness of the service.\n",
    "* **Online_Boarding** - The convenience of the online boarding process for the passenger."
   ]
  },
  {
   "cell_type": "markdown",
   "id": "d3284f75-652b-4952-b4aa-f89faaab41e1",
   "metadata": {},
   "source": [
    "## Data Validation "
   ]
  },
  {
   "cell_type": "code",
   "execution_count": 1,
   "id": "347c87e7-7e4c-4282-8ea0-7af003051151",
   "metadata": {},
   "outputs": [],
   "source": [
    "import numpy as np\n",
    "import pandas as pd\n",
    "import matplotlib.pyplot as plt\n",
    "%matplotlib inline\n",
    "import seaborn as sns"
   ]
  },
  {
   "cell_type": "markdown",
   "id": "86ed2885-d91f-425f-9eec-30fb0972bf60",
   "metadata": {},
   "source": [
    "### Train Data"
   ]
  },
  {
   "cell_type": "code",
   "execution_count": 7,
   "id": "0511a7ec-20fe-4a8f-95b9-00105e1d2ccd",
   "metadata": {},
   "outputs": [],
   "source": [
    "travel_train = pd.read_csv('../data/Traveldata_train.csv')"
   ]
  },
  {
   "cell_type": "code",
   "execution_count": 9,
   "id": "2560494b-8b36-443f-85a6-c140c230ebbc",
   "metadata": {},
   "outputs": [
    {
     "name": "stdout",
     "output_type": "stream",
     "text": [
      "<class 'pandas.core.frame.DataFrame'>\n",
      "RangeIndex: 94379 entries, 0 to 94378\n",
      "Data columns (total 9 columns):\n",
      " #   Column                   Non-Null Count  Dtype  \n",
      "---  ------                   --------------  -----  \n",
      " 0   ID                       94379 non-null  int64  \n",
      " 1   Gender                   94302 non-null  object \n",
      " 2   Customer_Type            85428 non-null  object \n",
      " 3   Age                      94346 non-null  float64\n",
      " 4   Type_Travel              85153 non-null  object \n",
      " 5   Travel_Class             94379 non-null  object \n",
      " 6   Travel_Distance          94379 non-null  int64  \n",
      " 7   Departure_Delay_in_Mins  94322 non-null  float64\n",
      " 8   Arrival_Delay_in_Mins    94022 non-null  float64\n",
      "dtypes: float64(3), int64(2), object(4)\n",
      "memory usage: 6.5+ MB\n"
     ]
    }
   ],
   "source": [
    "travel_train.info()"
   ]
  },
  {
   "cell_type": "code",
   "execution_count": 10,
   "id": "e9973f6c-1678-404a-aaa3-41c06fd6585b",
   "metadata": {},
   "outputs": [],
   "source": [
    "survey_train = pd.read_csv('../data/Surveydata_train.csv')"
   ]
  },
  {
   "cell_type": "code",
   "execution_count": 11,
   "id": "a07fb2ff-7709-44da-840c-dcfa7e66da97",
   "metadata": {},
   "outputs": [
    {
     "name": "stdout",
     "output_type": "stream",
     "text": [
      "<class 'pandas.core.frame.DataFrame'>\n",
      "RangeIndex: 94379 entries, 0 to 94378\n",
      "Data columns (total 17 columns):\n",
      " #   Column                   Non-Null Count  Dtype \n",
      "---  ------                   --------------  ----- \n",
      " 0   ID                       94379 non-null  int64 \n",
      " 1   Overall_Experience       94379 non-null  int64 \n",
      " 2   Seat_Comfort             94318 non-null  object\n",
      " 3   Seat_Class               94379 non-null  object\n",
      " 4   Arrival_Time_Convenient  85449 non-null  object\n",
      " 5   Catering                 85638 non-null  object\n",
      " 6   Platform_Location        94349 non-null  object\n",
      " 7   Onboard_Wifi_Service     94349 non-null  object\n",
      " 8   Onboard_Entertainment    94361 non-null  object\n",
      " 9   Online_Support           94288 non-null  object\n",
      " 10  Ease_of_Online_Booking   94306 non-null  object\n",
      " 11  Onboard_Service          86778 non-null  object\n",
      " 12  Legroom                  94289 non-null  object\n",
      " 13  Baggage_Handling         94237 non-null  object\n",
      " 14  CheckIn_Service          94302 non-null  object\n",
      " 15  Cleanliness              94373 non-null  object\n",
      " 16  Online_Boarding          94373 non-null  object\n",
      "dtypes: int64(2), object(15)\n",
      "memory usage: 12.2+ MB\n"
     ]
    }
   ],
   "source": [
    "survey_train.info()"
   ]
  }
 ],
 "metadata": {
  "kernelspec": {
   "display_name": "Python 3 (ipykernel)",
   "language": "python",
   "name": "python3"
  },
  "language_info": {
   "codemirror_mode": {
    "name": "ipython",
    "version": 3
   },
   "file_extension": ".py",
   "mimetype": "text/x-python",
   "name": "python",
   "nbconvert_exporter": "python",
   "pygments_lexer": "ipython3",
   "version": "3.10.9"
  }
 },
 "nbformat": 4,
 "nbformat_minor": 5
}
