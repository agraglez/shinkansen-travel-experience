{
 "cells": [
  {
   "cell_type": "markdown",
   "id": "1da094ac",
   "metadata": {},
   "source": [
    "# Shinkansen Travel Experience"
   ]
  },
  {
   "cell_type": "markdown",
   "id": "f717de0d",
   "metadata": {},
   "source": [
    "## Introduction\n",
    "The purposde of this report is to:\n",
    "* Identify the different factors that drive passenger satisaction.\n",
    "* Make a model to predict whether a passenger was satisfied or not considering the overall experience of traveling on the Shinkansen Bullet Train.\n",
    "\n",
    "**Dataset**\n",
    "\n",
    "The problem consists of 2 separate datasets: Travel data & Survey data. Travel data has information related to passengers and attributes related to the Shinkansen train, in which they traveled. The survey data is aggregated data of surveys indicating the post-service experience. The data has been split into two groups:\n",
    "\n",
    "* Train_Data\n",
    "* Test_Data\n",
    "\n",
    "**Travel Data Dictionary:**\n",
    "\n",
    "* **ID** - The unique ID of the passenger.\n",
    "* **Gender** - The gender of the passenger.\n",
    "* **Customer_Type** - Loyalty type of the passenger.\n",
    "* **Age** - The age of the passenger.\n",
    "* **Type_Travel** - Purpose of travel for the passenger.\n",
    "* **Travel_Class** - The train class that the passenger traveled in.\n",
    "* **Travel_Distance** - The distance traveled by the passenger.\n",
    "* **Departure_Delay_in_Mins** - The delay (in minutes) in train departure.\n",
    "* **Arrival_Delay_in_Mins** - The delay (in minutes) in train arrival.\n",
    "\n",
    "**Survey Data Dictionay:**\n",
    "\n",
    "* **ID** - The unique ID of the passenger.\n",
    "* **Platform_Location** - How convenient the location of the platform is for the passenger.\n",
    "* **Seat_Class** - The type of the seat class in the train, Green Car seats are usually more spacious and comfortable than ordinary seats. On the Shinkansen train, there are only four seats per row in the Green Car, versus five in the ordinary car.\n",
    "* **Overall_Experience** - The overall experience of the passenger. Target variable.\n",
    "* **Seat_Comfort** - The comfort level of the seat for the passenger.\n",
    "* **Arrival_Time_Convenient** - How convenient the arrival time of the train is for the passenger.\n",
    "* **Catering** - How convenient the catering service is for the passenger.\n",
    "* **Onboard_Wifi_Service** - The quality of the onboard Wi-Fi service for the passenger.\n",
    "* **Onboard_Entertainment** - The quality of the onboard entertainment for the passenger.\n",
    "* **Online_Support** - The quality of the online support for the passenger.\n",
    "* **Ease_of_Online_Booking** - The ease of online booking for the passenger.\n",
    "* **Onboard_Service** - The quality of the onboard service for the passenger.\n",
    "* **Legroom** - Legroom is the general term used in place of the more accurate “seat pitch”, which is the distance between a point on one seat and the same point on the seat in front of it. This variable describes the convenience of the legroom provided for the passenger.\n",
    "* **Baggage_Handling** - The convenience of baggage handling for the passenger.\n",
    "* **CheckIn_Service** - The convenience of the check-in service for the passenger.\n",
    "* **Cleanliness** - The passenger's view of the cleanliness of the service.\n",
    "* **Online_Boarding** - The convenience of the online boarding process for the passenger."
   ]
  },
  {
   "cell_type": "markdown",
   "id": "d3284f75-652b-4952-b4aa-f89faaab41e1",
   "metadata": {},
   "source": [
    "## Data Validation "
   ]
  },
  {
   "cell_type": "code",
   "execution_count": 1,
   "id": "347c87e7-7e4c-4282-8ea0-7af003051151",
   "metadata": {},
   "outputs": [],
   "source": [
    "import numpy as np\n",
    "import pandas as pd\n",
    "import matplotlib.pyplot as plt\n",
    "%matplotlib inline\n",
    "import seaborn as sns"
   ]
  },
  {
   "cell_type": "markdown",
   "id": "86ed2885-d91f-425f-9eec-30fb0972bf60",
   "metadata": {},
   "source": [
    "### Train Data"
   ]
  },
  {
   "cell_type": "code",
   "execution_count": 7,
   "id": "0511a7ec-20fe-4a8f-95b9-00105e1d2ccd",
   "metadata": {},
   "outputs": [],
   "source": [
    "travel_train = pd.read_csv('../data/Traveldata_train.csv')"
   ]
  },
  {
   "cell_type": "code",
   "execution_count": 9,
   "id": "2560494b-8b36-443f-85a6-c140c230ebbc",
   "metadata": {},
   "outputs": [
    {
     "name": "stdout",
     "output_type": "stream",
     "text": [
      "<class 'pandas.core.frame.DataFrame'>\n",
      "RangeIndex: 94379 entries, 0 to 94378\n",
      "Data columns (total 9 columns):\n",
      " #   Column                   Non-Null Count  Dtype  \n",
      "---  ------                   --------------  -----  \n",
      " 0   ID                       94379 non-null  int64  \n",
      " 1   Gender                   94302 non-null  object \n",
      " 2   Customer_Type            85428 non-null  object \n",
      " 3   Age                      94346 non-null  float64\n",
      " 4   Type_Travel              85153 non-null  object \n",
      " 5   Travel_Class             94379 non-null  object \n",
      " 6   Travel_Distance          94379 non-null  int64  \n",
      " 7   Departure_Delay_in_Mins  94322 non-null  float64\n",
      " 8   Arrival_Delay_in_Mins    94022 non-null  float64\n",
      "dtypes: float64(3), int64(2), object(4)\n",
      "memory usage: 6.5+ MB\n"
     ]
    }
   ],
   "source": [
    "travel_train.info()"
   ]
  },
  {
   "cell_type": "code",
   "execution_count": 10,
   "id": "e9973f6c-1678-404a-aaa3-41c06fd6585b",
   "metadata": {},
   "outputs": [],
   "source": [
    "survey_train = pd.read_csv('../data/Surveydata_train.csv')"
   ]
  },
  {
   "cell_type": "code",
   "execution_count": 11,
   "id": "a07fb2ff-7709-44da-840c-dcfa7e66da97",
   "metadata": {},
   "outputs": [
    {
     "name": "stdout",
     "output_type": "stream",
     "text": [
      "<class 'pandas.core.frame.DataFrame'>\n",
      "RangeIndex: 94379 entries, 0 to 94378\n",
      "Data columns (total 17 columns):\n",
      " #   Column                   Non-Null Count  Dtype \n",
      "---  ------                   --------------  ----- \n",
      " 0   ID                       94379 non-null  int64 \n",
      " 1   Overall_Experience       94379 non-null  int64 \n",
      " 2   Seat_Comfort             94318 non-null  object\n",
      " 3   Seat_Class               94379 non-null  object\n",
      " 4   Arrival_Time_Convenient  85449 non-null  object\n",
      " 5   Catering                 85638 non-null  object\n",
      " 6   Platform_Location        94349 non-null  object\n",
      " 7   Onboard_Wifi_Service     94349 non-null  object\n",
      " 8   Onboard_Entertainment    94361 non-null  object\n",
      " 9   Online_Support           94288 non-null  object\n",
      " 10  Ease_of_Online_Booking   94306 non-null  object\n",
      " 11  Onboard_Service          86778 non-null  object\n",
      " 12  Legroom                  94289 non-null  object\n",
      " 13  Baggage_Handling         94237 non-null  object\n",
      " 14  CheckIn_Service          94302 non-null  object\n",
      " 15  Cleanliness              94373 non-null  object\n",
      " 16  Online_Boarding          94373 non-null  object\n",
      "dtypes: int64(2), object(15)\n",
      "memory usage: 12.2+ MB\n"
     ]
    }
   ],
   "source": [
    "survey_train.info()"
   ]
  },
  {
   "cell_type": "markdown",
   "id": "793a158f-b19c-4d01-86eb-d59f6c36b1aa",
   "metadata": {},
   "source": [
    "We can use ID as the column to join the trains datasets."
   ]
  },
  {
   "cell_type": "code",
   "execution_count": 12,
   "id": "cdebeae0-d8e8-494e-824c-b609d94feb4a",
   "metadata": {},
   "outputs": [],
   "source": [
    "data_train = pd.merge(travel_train, survey_train, on = 'ID', how = 'inner')"
   ]
  },
  {
   "cell_type": "code",
   "execution_count": 13,
   "id": "36ef32dc-f397-4eb9-a5f4-1d645da8f335",
   "metadata": {},
   "outputs": [
    {
     "name": "stdout",
     "output_type": "stream",
     "text": [
      "<class 'pandas.core.frame.DataFrame'>\n",
      "Int64Index: 94379 entries, 0 to 94378\n",
      "Data columns (total 25 columns):\n",
      " #   Column                   Non-Null Count  Dtype  \n",
      "---  ------                   --------------  -----  \n",
      " 0   ID                       94379 non-null  int64  \n",
      " 1   Gender                   94302 non-null  object \n",
      " 2   Customer_Type            85428 non-null  object \n",
      " 3   Age                      94346 non-null  float64\n",
      " 4   Type_Travel              85153 non-null  object \n",
      " 5   Travel_Class             94379 non-null  object \n",
      " 6   Travel_Distance          94379 non-null  int64  \n",
      " 7   Departure_Delay_in_Mins  94322 non-null  float64\n",
      " 8   Arrival_Delay_in_Mins    94022 non-null  float64\n",
      " 9   Overall_Experience       94379 non-null  int64  \n",
      " 10  Seat_Comfort             94318 non-null  object \n",
      " 11  Seat_Class               94379 non-null  object \n",
      " 12  Arrival_Time_Convenient  85449 non-null  object \n",
      " 13  Catering                 85638 non-null  object \n",
      " 14  Platform_Location        94349 non-null  object \n",
      " 15  Onboard_Wifi_Service     94349 non-null  object \n",
      " 16  Onboard_Entertainment    94361 non-null  object \n",
      " 17  Online_Support           94288 non-null  object \n",
      " 18  Ease_of_Online_Booking   94306 non-null  object \n",
      " 19  Onboard_Service          86778 non-null  object \n",
      " 20  Legroom                  94289 non-null  object \n",
      " 21  Baggage_Handling         94237 non-null  object \n",
      " 22  CheckIn_Service          94302 non-null  object \n",
      " 23  Cleanliness              94373 non-null  object \n",
      " 24  Online_Boarding          94373 non-null  object \n",
      "dtypes: float64(3), int64(3), object(19)\n",
      "memory usage: 18.7+ MB\n"
     ]
    }
   ],
   "source": [
    "data_train.info()"
   ]
  },
  {
   "cell_type": "markdown",
   "id": "20adcaab-fb71-445f-bed7-084651303ea8",
   "metadata": {},
   "source": [
    "**Observations**:\n",
    "* There are 94397 observations on the train dataset.\n",
    "* There are missing values in several columns of the dataset.\n",
    "\n",
    "Let's check the unique values in each column and if we have any duplicates"
   ]
  },
  {
   "cell_type": "code",
   "execution_count": 14,
   "id": "7abf489f-c49b-4847-9fc7-2b32c35d03ea",
   "metadata": {},
   "outputs": [
    {
     "data": {
      "text/plain": [
       "ID                         94379\n",
       "Gender                         2\n",
       "Customer_Type                  2\n",
       "Age                           75\n",
       "Type_Travel                    2\n",
       "Travel_Class                   2\n",
       "Travel_Distance             5210\n",
       "Departure_Delay_in_Mins      437\n",
       "Arrival_Delay_in_Mins        434\n",
       "Overall_Experience             2\n",
       "Seat_Comfort                   6\n",
       "Seat_Class                     2\n",
       "Arrival_Time_Convenient        6\n",
       "Catering                       6\n",
       "Platform_Location              6\n",
       "Onboard_Wifi_Service           6\n",
       "Onboard_Entertainment          6\n",
       "Online_Support                 6\n",
       "Ease_of_Online_Booking         6\n",
       "Onboard_Service                6\n",
       "Legroom                        6\n",
       "Baggage_Handling               5\n",
       "CheckIn_Service                6\n",
       "Cleanliness                    6\n",
       "Online_Boarding                6\n",
       "dtype: int64"
      ]
     },
     "execution_count": 14,
     "metadata": {},
     "output_type": "execute_result"
    }
   ],
   "source": [
    "data_train.nunique()"
   ]
  },
  {
   "cell_type": "code",
   "execution_count": 17,
   "id": "304c7ed3-f503-428a-9a90-9719e27133c4",
   "metadata": {},
   "outputs": [
    {
     "data": {
      "text/plain": [
       "False"
      ]
     },
     "execution_count": 17,
     "metadata": {},
     "output_type": "execute_result"
    }
   ],
   "source": [
    "data_train.duplicated().any()"
   ]
  },
  {
   "cell_type": "markdown",
   "id": "d49ab9d8-35be-4aa3-814b-b50f0312e213",
   "metadata": {},
   "source": [
    "**Observations**:\n",
    "* ID is a unique identifier for each passenger, we can drop this column as it would not add any value to our analysis.\n",
    "* We don't have any duplicated rows on our dataset.\n",
    "\n",
    "Let's drop the ID column and define list for numerical and categorical columns to explore and work separately."
   ]
  },
  {
   "cell_type": "code",
   "execution_count": 18,
   "id": "cdb453c2-56cb-461b-8380-2c3c51b860ad",
   "metadata": {},
   "outputs": [],
   "source": [
    "data_train = data_train.drop('ID', axis=1)"
   ]
  },
  {
   "cell_type": "code",
   "execution_count": 19,
   "id": "a04078c7-529f-4486-9bd0-63e26cfce500",
   "metadata": {},
   "outputs": [
    {
     "data": {
      "text/plain": [
       "['Gender',\n",
       " 'Customer_Type',\n",
       " 'Type_Travel',\n",
       " 'Travel_Class',\n",
       " 'Seat_Comfort',\n",
       " 'Seat_Class',\n",
       " 'Arrival_Time_Convenient',\n",
       " 'Catering',\n",
       " 'Platform_Location',\n",
       " 'Onboard_Wifi_Service',\n",
       " 'Onboard_Entertainment',\n",
       " 'Online_Support',\n",
       " 'Ease_of_Online_Booking',\n",
       " 'Onboard_Service',\n",
       " 'Legroom',\n",
       " 'Baggage_Handling',\n",
       " 'CheckIn_Service',\n",
       " 'Cleanliness',\n",
       " 'Online_Boarding']"
      ]
     },
     "execution_count": 19,
     "metadata": {},
     "output_type": "execute_result"
    }
   ],
   "source": [
    "object_att = data_train.select_dtypes(include = 'object').columns.values.tolist()\n",
    "object_att"
   ]
  },
  {
   "cell_type": "code",
   "execution_count": 21,
   "id": "113b8d75-f8c1-4d9e-acd9-c637f3ba0488",
   "metadata": {},
   "outputs": [
    {
     "data": {
      "text/plain": [
       "['Age',\n",
       " 'Travel_Distance',\n",
       " 'Departure_Delay_in_Mins',\n",
       " 'Arrival_Delay_in_Mins',\n",
       " 'Overall_Experience']"
      ]
     },
     "execution_count": 21,
     "metadata": {},
     "output_type": "execute_result"
    }
   ],
   "source": [
    "num_att = data_train.select_dtypes(exclude = 'object').columns.values.tolist()\n",
    "num_att"
   ]
  },
  {
   "cell_type": "markdown",
   "id": "7e0f6bf4-67b6-4d8e-9b56-c54bfe6a8445",
   "metadata": {},
   "source": [
    "Let's check for strange values in numerical and categorical columns."
   ]
  },
  {
   "cell_type": "code",
   "execution_count": 38,
   "id": "40d0c5c2-7bb6-4dc2-938a-efb1e5ae8112",
   "metadata": {},
   "outputs": [
    {
     "data": {
      "text/html": [
       "<div>\n",
       "<style scoped>\n",
       "    .dataframe tbody tr th:only-of-type {\n",
       "        vertical-align: middle;\n",
       "    }\n",
       "\n",
       "    .dataframe tbody tr th {\n",
       "        vertical-align: top;\n",
       "    }\n",
       "\n",
       "    .dataframe thead th {\n",
       "        text-align: right;\n",
       "    }\n",
       "</style>\n",
       "<table border=\"1\" class=\"dataframe\">\n",
       "  <thead>\n",
       "    <tr style=\"text-align: right;\">\n",
       "      <th></th>\n",
       "      <th>count</th>\n",
       "      <th>mean</th>\n",
       "      <th>std</th>\n",
       "      <th>min</th>\n",
       "      <th>25%</th>\n",
       "      <th>50%</th>\n",
       "      <th>75%</th>\n",
       "      <th>max</th>\n",
       "    </tr>\n",
       "  </thead>\n",
       "  <tbody>\n",
       "    <tr>\n",
       "      <th>Age</th>\n",
       "      <td>94346.0</td>\n",
       "      <td>39.419647</td>\n",
       "      <td>15.116632</td>\n",
       "      <td>7.0</td>\n",
       "      <td>27.0</td>\n",
       "      <td>40.0</td>\n",
       "      <td>51.0</td>\n",
       "      <td>85.0</td>\n",
       "    </tr>\n",
       "    <tr>\n",
       "      <th>Travel_Distance</th>\n",
       "      <td>94379.0</td>\n",
       "      <td>1978.888185</td>\n",
       "      <td>1027.961019</td>\n",
       "      <td>50.0</td>\n",
       "      <td>1359.0</td>\n",
       "      <td>1923.0</td>\n",
       "      <td>2538.0</td>\n",
       "      <td>6951.0</td>\n",
       "    </tr>\n",
       "    <tr>\n",
       "      <th>Departure_Delay_in_Mins</th>\n",
       "      <td>94322.0</td>\n",
       "      <td>14.647092</td>\n",
       "      <td>38.138781</td>\n",
       "      <td>0.0</td>\n",
       "      <td>0.0</td>\n",
       "      <td>0.0</td>\n",
       "      <td>12.0</td>\n",
       "      <td>1592.0</td>\n",
       "    </tr>\n",
       "    <tr>\n",
       "      <th>Arrival_Delay_in_Mins</th>\n",
       "      <td>94022.0</td>\n",
       "      <td>15.005222</td>\n",
       "      <td>38.439409</td>\n",
       "      <td>0.0</td>\n",
       "      <td>0.0</td>\n",
       "      <td>0.0</td>\n",
       "      <td>13.0</td>\n",
       "      <td>1584.0</td>\n",
       "    </tr>\n",
       "    <tr>\n",
       "      <th>Overall_Experience</th>\n",
       "      <td>94379.0</td>\n",
       "      <td>0.546658</td>\n",
       "      <td>0.497821</td>\n",
       "      <td>0.0</td>\n",
       "      <td>0.0</td>\n",
       "      <td>1.0</td>\n",
       "      <td>1.0</td>\n",
       "      <td>1.0</td>\n",
       "    </tr>\n",
       "  </tbody>\n",
       "</table>\n",
       "</div>"
      ],
      "text/plain": [
       "                           count         mean          std   min     25%  \\\n",
       "Age                      94346.0    39.419647    15.116632   7.0    27.0   \n",
       "Travel_Distance          94379.0  1978.888185  1027.961019  50.0  1359.0   \n",
       "Departure_Delay_in_Mins  94322.0    14.647092    38.138781   0.0     0.0   \n",
       "Arrival_Delay_in_Mins    94022.0    15.005222    38.439409   0.0     0.0   \n",
       "Overall_Experience       94379.0     0.546658     0.497821   0.0     0.0   \n",
       "\n",
       "                            50%     75%     max  \n",
       "Age                        40.0    51.0    85.0  \n",
       "Travel_Distance          1923.0  2538.0  6951.0  \n",
       "Departure_Delay_in_Mins     0.0    12.0  1592.0  \n",
       "Arrival_Delay_in_Mins       0.0    13.0  1584.0  \n",
       "Overall_Experience          1.0     1.0     1.0  "
      ]
     },
     "execution_count": 38,
     "metadata": {},
     "output_type": "execute_result"
    }
   ],
   "source": [
    "data_train[num_att].describe().T"
   ]
  },
  {
   "cell_type": "code",
   "execution_count": 34,
   "id": "960961ba-9241-4bdb-8d6e-f95a46c92226",
   "metadata": {},
   "outputs": [
    {
     "name": "stdout",
     "output_type": "stream",
     "text": [
      "Gender\n",
      "['Female' 'Male' nan]\n",
      "Customer_Type\n",
      "['Loyal Customer' 'Disloyal Customer' nan]\n",
      "Type_Travel\n",
      "[nan 'Personal Travel' 'Business Travel']\n",
      "Travel_Class\n",
      "['Business' 'Eco']\n",
      "Seat_Comfort\n",
      "['Needs Improvement' 'Poor' 'Acceptable' 'Good' 'Excellent'\n",
      " 'Extremely Poor' nan]\n",
      "Seat_Class\n",
      "['Green Car' 'Ordinary']\n",
      "Arrival_Time_Convenient\n",
      "['Excellent' 'Needs Improvement' 'Acceptable' nan 'Good' 'Poor'\n",
      " 'Extremely Poor']\n",
      "Catering\n",
      "['Excellent' 'Poor' 'Needs Improvement' nan 'Acceptable' 'Good'\n",
      " 'Extremely Poor']\n",
      "Platform_Location\n",
      "['Very Convenient' 'Needs Improvement' 'Manageable' 'Inconvenient'\n",
      " 'Convenient' nan 'Very Inconvenient']\n",
      "Onboard_Wifi_Service\n",
      "['Good' 'Needs Improvement' 'Acceptable' 'Excellent' 'Poor'\n",
      " 'Extremely Poor' nan]\n",
      "Onboard_Entertainment\n",
      "['Needs Improvement' 'Poor' 'Good' 'Excellent' 'Acceptable'\n",
      " 'Extremely Poor' nan]\n",
      "Online_Support\n",
      "['Acceptable' 'Good' 'Excellent' 'Poor' nan 'Needs Improvement'\n",
      " 'Extremely Poor']\n",
      "Ease_of_Online_Booking\n",
      "['Needs Improvement' 'Good' 'Excellent' 'Acceptable' 'Poor' nan\n",
      " 'Extremely Poor']\n",
      "Onboard_Service\n",
      "['Needs Improvement' 'Excellent' 'Acceptable' 'Good' 'Poor' nan\n",
      " 'Extremely Poor']\n",
      "Legroom\n",
      "['Acceptable' 'Needs Improvement' 'Excellent' 'Good' 'Poor'\n",
      " 'Extremely Poor' nan]\n",
      "Baggage_Handling\n",
      "['Needs Improvement' 'Poor' 'Excellent' 'Acceptable' 'Good' nan]\n",
      "CheckIn_Service\n",
      "['Good' 'Needs Improvement' 'Acceptable' 'Excellent' 'Poor' nan\n",
      " 'Extremely Poor']\n",
      "Cleanliness\n",
      "['Needs Improvement' 'Good' 'Excellent' 'Acceptable' 'Poor'\n",
      " 'Extremely Poor' nan]\n",
      "Online_Boarding\n",
      "['Poor' 'Good' 'Excellent' 'Acceptable' 'Needs Improvement' nan\n",
      " 'Extremely Poor']\n"
     ]
    }
   ],
   "source": [
    "for i in range(len(object_att)):\n",
    "    print(object_att[i])\n",
    "    print(data_train[object_att[i]].unique())"
   ]
  },
  {
   "cell_type": "markdown",
   "id": "0f9cf909-b5f8-4991-ba5d-9b43f08746e0",
   "metadata": {},
   "source": [
    "**Observations**:\n",
    "* There are no clear outliers in both Departure_Delay_in_Mins and Arrival_Delay_in_Mins columns, for \n",
    "* There are no extrange values in any categorical column"
   ]
  }
 ],
 "metadata": {
  "kernelspec": {
   "display_name": "Python 3 (ipykernel)",
   "language": "python",
   "name": "python3"
  },
  "language_info": {
   "codemirror_mode": {
    "name": "ipython",
    "version": 3
   },
   "file_extension": ".py",
   "mimetype": "text/x-python",
   "name": "python",
   "nbconvert_exporter": "python",
   "pygments_lexer": "ipython3",
   "version": "3.10.9"
  }
 },
 "nbformat": 4,
 "nbformat_minor": 5
}
