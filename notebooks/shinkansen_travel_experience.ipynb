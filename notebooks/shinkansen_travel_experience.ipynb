{
 "cells": [
  {
   "cell_type": "markdown",
   "id": "1da094ac",
   "metadata": {},
   "source": [
    "# Shinkansen Travel Experience"
   ]
  },
  {
   "attachments": {},
   "cell_type": "markdown",
   "id": "f717de0d",
   "metadata": {},
   "source": [
    "## Introduction\n",
    "The purposde of this report is to:\n",
    "* Identify the different factors that drive passenger satisaction.\n",
    "* Make a model to predict whether a passenger was satisfied or not considering the overall experience of traveling on the Shinkansen Bullet Train.\n",
    "\n",
    "**Dataset**\n",
    "\n",
    "The problem consists of 2 separate datasets: Travel data & Survey data. Travel data has information related to passengers and attributes related to the Shinkansen train, in which they traveled. The survey data is aggregated data of surveys indicating the post-service experience. The data has been split into two groups:\n",
    "\n",
    "* Train_Data\n",
    "* Test_Data\n",
    "\n",
    "**Data Dictionary:**\n",
    "\n",
    "* **ID** - The unique ID of the passenger.\n",
    "* **Gender** - The gender of the passenger.\n",
    "* **Customer_Type** - Loyalty type of the passenger.\n",
    "* **Age** - The age of the passenger.\n",
    "* **Type_Travel** - Purpose of travel for the passenger.\n",
    "* **Travel_Class** - The train class that the passenger traveled in.\n",
    "* **Travel_Distance** - The distance traveled by the passenger.\n",
    "* **Departure_Delay_in_Mins** - The delay (in minutes) in train departure.\n",
    "* **Arrival_Delay_in_Mins** - The delay (in minutes) in train arrival."
   ]
  },
  {
   "cell_type": "code",
   "execution_count": null,
   "id": "b3c76e1b",
   "metadata": {},
   "outputs": [],
   "source": []
  }
 ],
 "metadata": {
  "kernelspec": {
   "display_name": "Python 3 (ipykernel)",
   "language": "python",
   "name": "python3"
  },
  "language_info": {
   "codemirror_mode": {
    "name": "ipython",
    "version": 3
   },
   "file_extension": ".py",
   "mimetype": "text/x-python",
   "name": "python",
   "nbconvert_exporter": "python",
   "pygments_lexer": "ipython3",
   "version": "3.10.9"
  }
 },
 "nbformat": 4,
 "nbformat_minor": 5
}
